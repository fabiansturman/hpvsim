{
 "cells": [
  {
   "cell_type": "code",
   "execution_count": 17,
   "metadata": {},
   "outputs": [
    {
     "name": "stderr",
     "output_type": "stream",
     "text": [
      "Bottle v0.12.25 server starting up (using WSGIRefServer())...\n",
      "Listening on http://127.0.0.1:8080/\n",
      "Hit Ctrl-C to quit.\n",
      "\n",
      "127.0.0.1 - - [22/Aug/2024 15:12:30] \"GET / HTTP/1.1\" 302 0\n",
      "127.0.0.1 - - [22/Aug/2024 15:12:30] \"GET /api/studies HTTP/1.1\" 200 210\n",
      "127.0.0.1 - - [22/Aug/2024 15:20:20] \"GET /api/studies/1/param_importances HTTP/1.1\" 200 720\n",
      "127.0.0.1 - - [22/Aug/2024 15:20:20] \"GET /api/meta HTTP/1.1\" 200 63\n",
      "127.0.0.1 - - [22/Aug/2024 15:20:21] \"GET /api/studies/1?after=0 HTTP/1.1\" 200 10916472\n",
      "127.0.0.1 - - [22/Aug/2024 15:20:22] \"GET /api/studies/1?after=0 HTTP/1.1\" 200 10916472\n",
      "127.0.0.1 - - [22/Aug/2024 15:20:22] \"GET /api/studies/1?after=0 HTTP/1.1\" 200 10916472\n",
      "127.0.0.1 - - [22/Aug/2024 15:20:22] \"GET /api/studies/1?after=0 HTTP/1.1\" 200 10916472\n",
      "127.0.0.1 - - [22/Aug/2024 15:20:23] \"GET /api/studies/1?after=0 HTTP/1.1\" 200 10916472\n",
      "127.0.0.1 - - [22/Aug/2024 15:20:23] \"GET /api/studies/1?after=0 HTTP/1.1\" 200 10916472\n",
      "127.0.0.1 - - [22/Aug/2024 15:20:23] \"GET /api/studies/1?after=0 HTTP/1.1\" 200 10916472\n",
      "127.0.0.1 - - [22/Aug/2024 15:20:24] \"GET /api/studies/1?after=0 HTTP/1.1\" 200 10916472\n",
      "127.0.0.1 - - [22/Aug/2024 15:20:24] \"GET /api/studies/1?after=0 HTTP/1.1\" 200 10916472\n",
      "127.0.0.1 - - [22/Aug/2024 15:20:25] \"GET /api/studies/1?after=0 HTTP/1.1\" 200 10916472\n",
      "127.0.0.1 - - [22/Aug/2024 15:20:25] \"GET /api/studies/1?after=0 HTTP/1.1\" 200 10916472\n",
      "127.0.0.1 - - [22/Aug/2024 15:20:25] \"GET /api/studies/1?after=0 HTTP/1.1\" 200 10916472\n",
      "127.0.0.1 - - [22/Aug/2024 15:20:26] \"GET /api/studies/1?after=0 HTTP/1.1\" 200 10916472\n",
      "127.0.0.1 - - [22/Aug/2024 15:20:34] \"GET /api/studies/1?after=0 HTTP/1.1\" 200 10916472\n",
      "127.0.0.1 - - [22/Aug/2024 15:20:34] \"GET /api/studies/1?after=0 HTTP/1.1\" 200 10916472\n",
      "127.0.0.1 - - [22/Aug/2024 15:20:34] \"GET /api/studies/1?after=0 HTTP/1.1\" 200 10916472\n",
      "127.0.0.1 - - [22/Aug/2024 15:20:35] \"GET /api/studies/1?after=0 HTTP/1.1\" 200 10916472\n",
      "127.0.0.1 - - [22/Aug/2024 15:20:35] \"GET /api/studies/1?after=0 HTTP/1.1\" 200 10916472\n",
      "127.0.0.1 - - [22/Aug/2024 15:20:35] \"GET /api/studies/1?after=0 HTTP/1.1\" 200 10916472\n",
      "127.0.0.1 - - [22/Aug/2024 15:20:41] \"GET /api/studies/1?after=0 HTTP/1.1\" 200 10916472\n",
      "127.0.0.1 - - [22/Aug/2024 15:20:41] \"GET /api/studies/1?after=0 HTTP/1.1\" 200 10916472\n",
      "127.0.0.1 - - [22/Aug/2024 15:20:42] \"GET /api/studies/1?after=0 HTTP/1.1\" 200 10916472\n",
      "127.0.0.1 - - [22/Aug/2024 15:20:42] \"GET /api/studies/1?after=0 HTTP/1.1\" 200 10916472\n",
      "127.0.0.1 - - [22/Aug/2024 15:20:42] \"GET /api/studies/1?after=0 HTTP/1.1\" 200 10916472\n",
      "127.0.0.1 - - [22/Aug/2024 15:20:42] \"GET /api/studies/1?after=0 HTTP/1.1\" 200 10916472\n",
      "127.0.0.1 - - [22/Aug/2024 15:20:50] \"GET /api/studies/1?after=0 HTTP/1.1\" 200 10916472\n",
      "127.0.0.1 - - [22/Aug/2024 15:20:50] \"GET /api/studies/1?after=0 HTTP/1.1\" 200 10916472\n",
      "127.0.0.1 - - [22/Aug/2024 15:20:51] \"GET /api/studies/1?after=0 HTTP/1.1\" 200 10916472\n",
      "127.0.0.1 - - [22/Aug/2024 15:20:51] \"GET /api/studies/1?after=0 HTTP/1.1\" 200 10916472\n",
      "127.0.0.1 - - [22/Aug/2024 15:20:51] \"GET /api/studies/1?after=0 HTTP/1.1\" 200 10916472\n",
      "127.0.0.1 - - [22/Aug/2024 15:20:52] \"GET /api/studies/1?after=0 HTTP/1.1\" 200 10916472\n",
      "127.0.0.1 - - [22/Aug/2024 15:20:55] \"GET /api/studies/1?after=0 HTTP/1.1\" 200 10916472\n",
      "127.0.0.1 - - [22/Aug/2024 15:20:56] \"GET /api/studies/1?after=0 HTTP/1.1\" 200 10916472\n",
      "127.0.0.1 - - [22/Aug/2024 15:20:56] \"GET /api/studies/1?after=0 HTTP/1.1\" 200 10916472\n",
      "127.0.0.1 - - [22/Aug/2024 15:20:56] \"GET /api/studies/1?after=0 HTTP/1.1\" 200 10916472\n",
      "127.0.0.1 - - [22/Aug/2024 15:20:57] \"GET /api/studies/1?after=0 HTTP/1.1\" 200 10916472\n",
      "127.0.0.1 - - [22/Aug/2024 15:20:57] \"GET /api/studies/1?after=0 HTTP/1.1\" 200 10916472\n",
      "127.0.0.1 - - [22/Aug/2024 15:21:07] \"GET /api/studies/1?after=0 HTTP/1.1\" 200 10916472\n",
      "127.0.0.1 - - [22/Aug/2024 15:21:07] \"GET /api/studies/1?after=0 HTTP/1.1\" 200 10916472\n",
      "127.0.0.1 - - [22/Aug/2024 15:21:08] \"GET /api/studies/1?after=0 HTTP/1.1\" 200 10916472\n",
      "127.0.0.1 - - [22/Aug/2024 15:21:08] \"GET /api/studies/1?after=0 HTTP/1.1\" 200 10916472\n",
      "127.0.0.1 - - [22/Aug/2024 15:21:09] \"GET /api/studies/1?after=0 HTTP/1.1\" 200 10916472\n",
      "127.0.0.1 - - [22/Aug/2024 15:21:09] \"GET /api/studies/1?after=0 HTTP/1.1\" 200 10916472\n",
      "127.0.0.1 - - [22/Aug/2024 15:21:16] \"GET /api/studies/1?after=0 HTTP/1.1\" 200 10916472\n",
      "127.0.0.1 - - [22/Aug/2024 15:21:17] \"GET /api/studies/1?after=0 HTTP/1.1\" 200 10916472\n",
      "127.0.0.1 - - [22/Aug/2024 15:21:18] \"GET /api/studies/1/param_importances HTTP/1.1\" 200 720\n",
      "127.0.0.1 - - [22/Aug/2024 15:21:42] \"GET /api/studies/1?after=5000 HTTP/1.1\" 200 4421\n"
     ]
    }
   ],
   "source": [
    "from optuna_dashboard import run_server\n",
    "import optuna\n",
    "\n",
    "name = \"C:\\\\Users\\\\fabia\\\\Documents\\\\GitHub\\\\hpvsim\\\\RawTemp\\\\Aug1823_10_np_calibInstance2\"\n",
    "#journal_file_path = f\"{name}.log\"\n",
    "#storage = optuna.storages.JournalStorage(optuna.storages.JournalFileStorage(journal_file_path))\n",
    "\n",
    "run_server(f'sqlite:///{name}.db', host=\"127.0.0.1\", port = 8080)"
   ]
  }
 ],
 "metadata": {
  "kernelspec": {
   "display_name": "Python 3",
   "language": "python",
   "name": "python3"
  },
  "language_info": {
   "codemirror_mode": {
    "name": "ipython",
    "version": 3
   },
   "file_extension": ".py",
   "mimetype": "text/x-python",
   "name": "python",
   "nbconvert_exporter": "python",
   "pygments_lexer": "ipython3",
   "version": "3.12.1"
  }
 },
 "nbformat": 4,
 "nbformat_minor": 2
}
