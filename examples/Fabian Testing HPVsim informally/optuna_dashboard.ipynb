{
 "cells": [
  {
   "cell_type": "code",
   "execution_count": 8,
   "metadata": {},
   "outputs": [
    {
     "name": "stderr",
     "output_type": "stream",
     "text": [
      "Bottle v0.12.25 server starting up (using WSGIRefServer())...\n",
      "Listening on http://127.0.0.1:8080/\n",
      "Hit Ctrl-C to quit.\n",
      "\n",
      "127.0.0.1 - - [14/Sep/2024 11:33:49] \"GET / HTTP/1.1\" 302 0\n",
      "127.0.0.1 - - [14/Sep/2024 11:33:49] \"GET /dashboard HTTP/1.1\" 304 0\n",
      "127.0.0.1 - - [14/Sep/2024 11:33:50] \"GET /api/studies HTTP/1.1\" 200 208\n",
      "127.0.0.1 - - [14/Sep/2024 11:34:08] \"GET /api/studies/1/param_importances HTTP/1.1\" 200 717\n",
      "127.0.0.1 - - [14/Sep/2024 11:34:11] \"GET /api/studies/1?after=0 HTTP/1.1\" 200 11144144\n",
      "127.0.0.1 - - [14/Sep/2024 11:34:11] \"GET /api/meta HTTP/1.1\" 200 63\n",
      "127.0.0.1 - - [14/Sep/2024 11:34:11] \"GET /dashboard/studies/1 HTTP/1.1\" 200 4145\n",
      "127.0.0.1 - - [14/Sep/2024 11:34:12] \"GET /api/studies/1/param_importances HTTP/1.1\" 200 717\n",
      "127.0.0.1 - - [14/Sep/2024 11:34:13] \"GET /api/studies/1?after=0 HTTP/1.1\" 200 11144144\n",
      "127.0.0.1 - - [14/Sep/2024 11:34:13] \"GET /api/meta HTTP/1.1\" 200 63\n",
      "127.0.0.1 - - [14/Sep/2024 11:34:14] \"GET /api/studies/1/param_importances HTTP/1.1\" 200 717\n",
      "127.0.0.1 - - [14/Sep/2024 11:34:19] \"GET /dashboard/studies/1 HTTP/1.1\" 304 0\n",
      "127.0.0.1 - - [14/Sep/2024 11:34:24] \"GET / HTTP/1.1\" 302 0\n",
      "127.0.0.1 - - [14/Sep/2024 11:34:30] \"GET / HTTP/1.1\" 302 0\n",
      "127.0.0.1 - - [14/Sep/2024 11:34:30] \"GET /api/studies HTTP/1.1\" 200 208\n",
      "127.0.0.1 - - [14/Sep/2024 11:34:34] \"GET /api/studies/1/param_importances HTTP/1.1\" 200 717\n",
      "127.0.0.1 - - [14/Sep/2024 11:34:35] \"GET /api/studies/1?after=0 HTTP/1.1\" 200 11144144\n",
      "127.0.0.1 - - [14/Sep/2024 11:34:35] \"GET /api/meta HTTP/1.1\" 200 63\n",
      "127.0.0.1 - - [14/Sep/2024 11:34:35] \"GET /api/studies/1/param_importances HTTP/1.1\" 200 717\n",
      "127.0.0.1 - - [14/Sep/2024 11:35:32] \"GET /api/studies/1?after=5000 HTTP/1.1\" 200 4502\n",
      "127.0.0.1 - - [14/Sep/2024 11:35:58] \"GET /api/studies/1?after=5000 HTTP/1.1\" 200 4502\n",
      "127.0.0.1 - - [14/Sep/2024 11:36:17] \"GET /api/studies/1?after=5000 HTTP/1.1\" 200 4502\n",
      "127.0.0.1 - - [14/Sep/2024 11:36:31] \"GET /api/studies/1?after=5000 HTTP/1.1\" 200 4502\n",
      "127.0.0.1 - - [14/Sep/2024 11:36:34] \"GET /api/studies HTTP/1.1\" 200 208\n",
      "127.0.0.1 - - [14/Sep/2024 11:36:56] \"GET /api/studies/1?after=5000 HTTP/1.1\" 200 4502\n",
      "127.0.0.1 - - [14/Sep/2024 11:36:56] \"GET /api/meta HTTP/1.1\" 200 63\n",
      "127.0.0.1 - - [14/Sep/2024 11:36:56] \"GET /api/studies HTTP/1.1\" 200 208\n",
      "127.0.0.1 - - [14/Sep/2024 11:37:14] \"GET /api/studies/1?after=5000 HTTP/1.1\" 200 4502\n",
      "127.0.0.1 - - [14/Sep/2024 11:37:14] \"GET /api/meta HTTP/1.1\" 200 63\n",
      "127.0.0.1 - - [14/Sep/2024 11:37:34] \"GET /api/studies/1?after=5000 HTTP/1.1\" 200 4502\n"
     ]
    }
   ],
   "source": [
    "from optuna_dashboard import run_server\n",
    "import optuna\n",
    "\n",
    "name = \"C:\\\\Users\\\\fabia\\\\Documents\\\\GitHub\\\\hpvsim\\\\RawTemp\\\\Aug2524_5_2_calibInstance6\"\n",
    "#journal_file_path = f\"{name}.log\"\n",
    "#storage = optuna.storages.JournalStorage(optuna.storages.JournalFileStorage(journal_file_path))\n",
    "\n",
    "run_server(f'sqlite:///{name}.db', host=\"127.0.0.1\", port = 8080)"
   ]
  }
 ],
 "metadata": {
  "kernelspec": {
   "display_name": "Python 3",
   "language": "python",
   "name": "python3"
  },
  "language_info": {
   "codemirror_mode": {
    "name": "ipython",
    "version": 3
   },
   "file_extension": ".py",
   "mimetype": "text/x-python",
   "name": "python",
   "nbconvert_exporter": "python",
   "pygments_lexer": "ipython3",
   "version": "3.12.1"
  }
 },
 "nbformat": 4,
 "nbformat_minor": 2
}
