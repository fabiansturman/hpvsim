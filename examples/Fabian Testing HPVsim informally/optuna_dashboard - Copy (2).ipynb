{
 "cells": [
  {
   "cell_type": "code",
   "execution_count": 15,
   "metadata": {},
   "outputs": [
    {
     "name": "stderr",
     "output_type": "stream",
     "text": [
      "Bottle v0.12.25 server starting up (using WSGIRefServer())...\n",
      "Listening on http://127.0.0.1:8080/\n",
      "Hit Ctrl-C to quit.\n",
      "\n",
      "127.0.0.1 - - [22/Aug/2024 15:09:52] \"GET / HTTP/1.1\" 302 0\n",
      "127.0.0.1 - - [22/Aug/2024 15:09:53] \"GET /api/studies HTTP/1.1\" 200 210\n",
      "127.0.0.1 - - [22/Aug/2024 15:10:08] \"GET /api/studies/1/param_importances HTTP/1.1\" 200 725\n",
      "127.0.0.1 - - [22/Aug/2024 15:10:10] \"GET /api/studies/1?after=0 HTTP/1.1\" 200 11114486\n",
      "127.0.0.1 - - [22/Aug/2024 15:10:10] \"GET /api/meta HTTP/1.1\" 200 63\n",
      "127.0.0.1 - - [22/Aug/2024 15:10:10] \"GET /api/studies/1?after=0 HTTP/1.1\" 200 11114486\n",
      "127.0.0.1 - - [22/Aug/2024 15:10:10] \"GET /api/studies/1/param_importances HTTP/1.1\" 200 725\n"
     ]
    }
   ],
   "source": [
    "from optuna_dashboard import run_server\n",
    "import optuna\n",
    "\n",
    "name = \"C:\\\\Users\\\\fabia\\\\Documents\\\\GitHub\\\\hpvsim\\\\RawTemp\\\\Aug1823_10_p1_calibInstance1\"\n",
    "#journal_file_path = f\"{name}.log\"\n",
    "#storage = optuna.storages.JournalStorage(optuna.storages.JournalFileStorage(journal_file_path))\n",
    "\n",
    "run_server(f'sqlite:///{name}.db', host=\"127.0.0.1\", port = 8080)"
   ]
  }
 ],
 "metadata": {
  "kernelspec": {
   "display_name": "Python 3",
   "language": "python",
   "name": "python3"
  },
  "language_info": {
   "codemirror_mode": {
    "name": "ipython",
    "version": 3
   },
   "file_extension": ".py",
   "mimetype": "text/x-python",
   "name": "python",
   "nbconvert_exporter": "python",
   "pygments_lexer": "ipython3",
   "version": "3.12.1"
  }
 },
 "nbformat": 4,
 "nbformat_minor": 2
}
