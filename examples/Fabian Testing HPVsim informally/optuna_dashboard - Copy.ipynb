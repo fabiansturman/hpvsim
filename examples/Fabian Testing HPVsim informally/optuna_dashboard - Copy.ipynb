{
 "cells": [
  {
   "cell_type": "code",
   "execution_count": 5,
   "metadata": {},
   "outputs": [
    {
     "name": "stderr",
     "output_type": "stream",
     "text": [
      "<>:4: SyntaxWarning: invalid escape sequence '\\D'\n",
      "<>:4: SyntaxWarning: invalid escape sequence '\\D'\n",
      "C:\\Users\\fabia\\AppData\\Local\\Temp\\ipykernel_7300\\2897828163.py:4: SyntaxWarning: invalid escape sequence '\\D'\n",
      "  name = \"C:\\\\Users\\\\fabia\\Documents\\\\Uni\\\\JasminaProject\\\\Results\\\\ComparingPruners\\\\dataset 6 runs\\\\run 23\\\\raw temp\\\\09Oct24_3_p4s4_calibInstance9\"\n",
      "Bottle v0.12.25 server starting up (using WSGIRefServer())...\n",
      "Listening on http://127.0.0.1:8083/\n",
      "Hit Ctrl-C to quit.\n",
      "\n",
      "127.0.0.1 - - [10/Oct/2024 16:35:17] \"GET / HTTP/1.1\" 302 0\n",
      "127.0.0.1 - - [10/Oct/2024 16:35:17] \"GET /dashboard HTTP/1.1\" 200 4145\n",
      "127.0.0.1 - - [10/Oct/2024 16:35:17] \"GET /static/bundle.js HTTP/1.1\" 200 2986981\n",
      "127.0.0.1 - - [10/Oct/2024 16:35:19] \"GET /api/studies HTTP/1.1\" 200 211\n",
      "127.0.0.1 - - [10/Oct/2024 16:35:19] \"GET /favicon.ico HTTP/1.1\" 200 7670\n",
      "127.0.0.1 - - [10/Oct/2024 16:35:36] \"GET /api/studies/1/param_importances HTTP/1.1\" 200 720\n",
      "127.0.0.1 - - [10/Oct/2024 16:35:37] \"GET /api/studies/1?after=0 HTTP/1.1\" 200 11124294\n",
      "127.0.0.1 - - [10/Oct/2024 16:35:37] \"GET /api/meta HTTP/1.1\" 200 63\n",
      "127.0.0.1 - - [10/Oct/2024 16:35:40] \"GET /api/studies/1?after=0 HTTP/1.1\" 200 11124294\n",
      "127.0.0.1 - - [10/Oct/2024 16:35:46] \"GET /api/studies/1/param_importances HTTP/1.1\" 200 720\n",
      "127.0.0.1 - - [10/Oct/2024 16:37:10] \"GET /api/studies/1?after=5000 HTTP/1.1\" 200 4463\n"
     ]
    }
   ],
   "source": [
    "from optuna_dashboard import run_server\n",
    "import optuna\n",
    "\n",
    "name = \"C:\\\\Users\\\\fabia\\Documents\\\\Uni\\\\JasminaProject\\\\Results\\\\ComparingPruners\\\\dataset 6 runs\\\\run 23\\\\raw temp\\\\09Oct24_3_p4s4_calibInstance9\"\n",
    "#journal_file_path = f\"{name}.log\"\n",
    "#storage = optuna.storages.JournalStorage(optuna.storages.JournalFileStorage(journal_file_path))\n",
    "\n",
    "run_server(f'sqlite:///{name}.db', host=\"127.0.0.1\", port = 8083)"
   ]
  }
 ],
 "metadata": {
  "kernelspec": {
   "display_name": "Python 3",
   "language": "python",
   "name": "python3"
  },
  "language_info": {
   "codemirror_mode": {
    "name": "ipython",
    "version": 3
   },
   "file_extension": ".py",
   "mimetype": "text/x-python",
   "name": "python",
   "nbconvert_exporter": "python",
   "pygments_lexer": "ipython3",
   "version": "3.12.1"
  }
 },
 "nbformat": 4,
 "nbformat_minor": 2
}
