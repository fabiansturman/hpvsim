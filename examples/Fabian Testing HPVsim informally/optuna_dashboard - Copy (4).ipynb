{
 "cells": [
  {
   "cell_type": "code",
   "execution_count": 6,
   "metadata": {},
   "outputs": [
    {
     "name": "stderr",
     "output_type": "stream",
     "text": [
      "<>:4: SyntaxWarning: invalid escape sequence '\\D'\n",
      "<>:4: SyntaxWarning: invalid escape sequence '\\D'\n",
      "C:\\Users\\fabia\\AppData\\Local\\Temp\\ipykernel_22028\\3113441260.py:4: SyntaxWarning: invalid escape sequence '\\D'\n",
      "  name = \"C:\\\\Users\\\\fabia\\Documents\\\\Uni\\\\JasminaProject\\\\Results\\\\ComparingPruners\\\\dataset 6 runs\\\\run 23\\\\raw temp\\\\09Oct24_3_p4s4_calibInstance7\"\n",
      "Bottle v0.12.25 server starting up (using WSGIRefServer())...\n",
      "Listening on http://127.0.0.1:8082/\n",
      "Hit Ctrl-C to quit.\n",
      "\n",
      "127.0.0.1 - - [10/Oct/2024 16:34:58] \"GET / HTTP/1.1\" 302 0\n",
      "127.0.0.1 - - [10/Oct/2024 16:34:58] \"GET /dashboard HTTP/1.1\" 200 4145\n",
      "127.0.0.1 - - [10/Oct/2024 16:34:58] \"GET /static/bundle.js HTTP/1.1\" 200 2986981\n",
      "127.0.0.1 - - [10/Oct/2024 16:35:00] \"GET /api/studies HTTP/1.1\" 200 211\n",
      "127.0.0.1 - - [10/Oct/2024 16:35:00] \"GET /favicon.ico HTTP/1.1\" 200 7670\n",
      "127.0.0.1 - - [10/Oct/2024 16:35:32] \"GET /api/studies/1/param_importances HTTP/1.1\" 200 719\n",
      "127.0.0.1 - - [10/Oct/2024 16:35:34] \"GET /api/studies/1?after=0 HTTP/1.1\" 200 11125276\n",
      "127.0.0.1 - - [10/Oct/2024 16:35:34] \"GET /api/meta HTTP/1.1\" 200 63\n",
      "127.0.0.1 - - [10/Oct/2024 16:35:36] \"GET /api/studies/1?after=0 HTTP/1.1\" 200 11125276\n",
      "127.0.0.1 - - [10/Oct/2024 16:35:42] \"GET /api/studies/1/param_importances HTTP/1.1\" 200 719\n",
      "127.0.0.1 - - [10/Oct/2024 16:36:19] \"GET /api/studies/1?after=5000 HTTP/1.1\" 200 4465\n"
     ]
    }
   ],
   "source": [
    "from optuna_dashboard import run_server\n",
    "import optuna\n",
    "\n",
    "name = \"C:\\\\Users\\\\fabia\\Documents\\\\Uni\\\\JasminaProject\\\\Results\\\\ComparingPruners\\\\dataset 6 runs\\\\run 23\\\\raw temp\\\\09Oct24_3_p4s4_calibInstance7\"\n",
    "#journal_file_path = f\"{name}.log\"\n",
    "#storage = optuna.storages.JournalStorage(optuna.storages.JournalFileStorage(journal_file_path))\n",
    "\n",
    "run_server(f'sqlite:///{name}.db', host=\"127.0.0.1\", port = 8082)"
   ]
  }
 ],
 "metadata": {
  "kernelspec": {
   "display_name": "Python 3",
   "language": "python",
   "name": "python3"
  },
  "language_info": {
   "codemirror_mode": {
    "name": "ipython",
    "version": 3
   },
   "file_extension": ".py",
   "mimetype": "text/x-python",
   "name": "python",
   "nbconvert_exporter": "python",
   "pygments_lexer": "ipython3",
   "version": "3.12.1"
  }
 },
 "nbformat": 4,
 "nbformat_minor": 2
}
